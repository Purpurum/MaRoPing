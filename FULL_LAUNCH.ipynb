{
 "cells": [
  {
   "cell_type": "markdown",
   "metadata": {},
   "source": [
    "## -=ВНИМАНИЕ!=-\n",
    "Для корректной работы файла необходимо:\n",
    "1. Папка с моделями должна находится на том же уровне, что и этот файл(если, конечно, оператор сам не поменяет расположение к ним)\n",
    "2. Папка с изображениями должна находится на том же уровне, что и этот файл(если, конечно, оператор сам не поменяет расположение к ним)\n",
    "3. Файл базы данных должен находится на том же уровне, что и этот файл(если, конечно, оператор сам не поменяет расположение к ним)   \n",
    "\n",
    "Сабмит выгружается в папку: \"output/submission\"   \n",
    "Изображения берутся из папки: \"input/imgs_test\""
   ]
  },
  {
   "attachments": {},
   "cell_type": "markdown",
   "metadata": {},
   "source": [
    "## -=Подготовка к запуску=-"
   ]
  },
  {
   "attachments": {},
   "cell_type": "markdown",
   "metadata": {},
   "source": [
    "### Установка пакетов"
   ]
  },
  {
   "cell_type": "code",
   "execution_count": 142,
   "metadata": {},
   "outputs": [
    {
     "name": "stdout",
     "output_type": "stream",
     "text": [
      "Requirement already satisfied: ultralytics in c:\\users\\purp\\appdata\\local\\programs\\python\\python310\\lib\\site-packages (8.3.27)Note: you may need to restart the kernel to use updated packages.\n",
      "\n",
      "Requirement already satisfied: numpy>=1.23.0 in c:\\users\\purp\\appdata\\local\\programs\\python\\python310\\lib\\site-packages (from ultralytics) (1.25.2)\n",
      "Requirement already satisfied: matplotlib>=3.3.0 in c:\\users\\purp\\appdata\\local\\programs\\python\\python310\\lib\\site-packages (from ultralytics) (3.8.2)\n",
      "Requirement already satisfied: opencv-python>=4.6.0 in c:\\users\\purp\\appdata\\local\\programs\\python\\python310\\lib\\site-packages (from ultralytics) (4.7.0.72)\n",
      "Requirement already satisfied: pillow>=7.1.2 in c:\\users\\purp\\appdata\\local\\programs\\python\\python310\\lib\\site-packages (from ultralytics) (9.5.0)\n",
      "Requirement already satisfied: pyyaml>=5.3.1 in c:\\users\\purp\\appdata\\local\\programs\\python\\python310\\lib\\site-packages (from ultralytics) (6.0.1)\n",
      "Requirement already satisfied: requests>=2.23.0 in c:\\users\\purp\\appdata\\local\\programs\\python\\python310\\lib\\site-packages (from ultralytics) (2.28.2)\n",
      "Requirement already satisfied: scipy>=1.4.1 in c:\\users\\purp\\appdata\\local\\programs\\python\\python310\\lib\\site-packages (from ultralytics) (1.9.3)\n",
      "Requirement already satisfied: torch>=1.8.0 in c:\\users\\purp\\appdata\\local\\programs\\python\\python310\\lib\\site-packages (from ultralytics) (2.0.1+cu118)\n",
      "Requirement already satisfied: torchvision>=0.9.0 in c:\\users\\purp\\appdata\\local\\programs\\python\\python310\\lib\\site-packages (from ultralytics) (0.15.2+cu118)\n",
      "Requirement already satisfied: tqdm>=4.64.0 in c:\\users\\purp\\appdata\\local\\programs\\python\\python310\\lib\\site-packages (from ultralytics) (4.65.2)\n",
      "Requirement already satisfied: psutil in c:\\users\\purp\\appdata\\local\\programs\\python\\python310\\lib\\site-packages (from ultralytics) (5.9.5)\n",
      "Requirement already satisfied: py-cpuinfo in c:\\users\\purp\\appdata\\local\\programs\\python\\python310\\lib\\site-packages (from ultralytics) (9.0.0)\n",
      "Requirement already satisfied: pandas>=1.1.4 in c:\\users\\purp\\appdata\\local\\programs\\python\\python310\\lib\\site-packages (from ultralytics) (2.2.3)\n",
      "Requirement already satisfied: seaborn>=0.11.0 in c:\\users\\purp\\appdata\\local\\programs\\python\\python310\\lib\\site-packages (from ultralytics) (0.13.1)\n",
      "Requirement already satisfied: ultralytics-thop>=2.0.0 in c:\\users\\purp\\appdata\\local\\programs\\python\\python310\\lib\\site-packages (from ultralytics) (2.0.10)\n",
      "Requirement already satisfied: contourpy>=1.0.1 in c:\\users\\purp\\appdata\\local\\programs\\python\\python310\\lib\\site-packages (from matplotlib>=3.3.0->ultralytics) (1.2.0)\n",
      "Requirement already satisfied: cycler>=0.10 in c:\\users\\purp\\appdata\\local\\programs\\python\\python310\\lib\\site-packages (from matplotlib>=3.3.0->ultralytics) (0.10.0)\n",
      "Requirement already satisfied: fonttools>=4.22.0 in c:\\users\\purp\\appdata\\local\\programs\\python\\python310\\lib\\site-packages (from matplotlib>=3.3.0->ultralytics) (4.47.0)\n",
      "Requirement already satisfied: kiwisolver>=1.3.1 in c:\\users\\purp\\appdata\\local\\programs\\python\\python310\\lib\\site-packages (from matplotlib>=3.3.0->ultralytics) (1.4.5)\n",
      "Requirement already satisfied: packaging>=20.0 in c:\\users\\purp\\appdata\\local\\programs\\python\\python310\\lib\\site-packages (from matplotlib>=3.3.0->ultralytics) (23.2)\n",
      "Requirement already satisfied: pyparsing>=2.3.1 in c:\\users\\purp\\appdata\\local\\programs\\python\\python310\\lib\\site-packages (from matplotlib>=3.3.0->ultralytics) (3.1.1)\n",
      "Requirement already satisfied: python-dateutil>=2.7 in c:\\users\\purp\\appdata\\local\\programs\\python\\python310\\lib\\site-packages (from matplotlib>=3.3.0->ultralytics) (2.9.0.post0)\n",
      "Requirement already satisfied: pytz>=2020.1 in c:\\users\\purp\\appdata\\local\\programs\\python\\python310\\lib\\site-packages (from pandas>=1.1.4->ultralytics) (2024.2)\n",
      "Requirement already satisfied: tzdata>=2022.7 in c:\\users\\purp\\appdata\\local\\programs\\python\\python310\\lib\\site-packages (from pandas>=1.1.4->ultralytics) (2024.2)\n",
      "Requirement already satisfied: charset-normalizer<4,>=2 in c:\\users\\purp\\appdata\\local\\programs\\python\\python310\\lib\\site-packages (from requests>=2.23.0->ultralytics) (3.3.2)\n",
      "Requirement already satisfied: idna<4,>=2.5 in c:\\users\\purp\\appdata\\local\\programs\\python\\python310\\lib\\site-packages (from requests>=2.23.0->ultralytics) (2.10)\n",
      "Requirement already satisfied: urllib3<1.27,>=1.21.1 in c:\\users\\purp\\appdata\\local\\programs\\python\\python310\\lib\\site-packages (from requests>=2.23.0->ultralytics) (1.26.18)\n",
      "Requirement already satisfied: certifi>=2017.4.17 in c:\\users\\purp\\appdata\\local\\programs\\python\\python310\\lib\\site-packages (from requests>=2.23.0->ultralytics) (2023.7.22)\n",
      "Requirement already satisfied: filelock in c:\\users\\purp\\appdata\\local\\programs\\python\\python310\\lib\\site-packages (from torch>=1.8.0->ultralytics) (3.13.1)\n",
      "Requirement already satisfied: typing-extensions in c:\\users\\purp\\appdata\\local\\programs\\python\\python310\\lib\\site-packages (from torch>=1.8.0->ultralytics) (4.9.0)\n",
      "Requirement already satisfied: sympy in c:\\users\\purp\\appdata\\local\\programs\\python\\python310\\lib\\site-packages (from torch>=1.8.0->ultralytics) (1.12)\n",
      "Requirement already satisfied: networkx in c:\\users\\purp\\appdata\\local\\programs\\python\\python310\\lib\\site-packages (from torch>=1.8.0->ultralytics) (3.2.1)\n",
      "Requirement already satisfied: jinja2 in c:\\users\\purp\\appdata\\local\\programs\\python\\python310\\lib\\site-packages (from torch>=1.8.0->ultralytics) (3.1.2)\n",
      "Requirement already satisfied: colorama in c:\\users\\purp\\appdata\\local\\programs\\python\\python310\\lib\\site-packages (from tqdm>=4.64.0->ultralytics) (0.4.6)\n",
      "Requirement already satisfied: six in c:\\users\\purp\\appdata\\local\\programs\\python\\python310\\lib\\site-packages (from cycler>=0.10->matplotlib>=3.3.0->ultralytics) (1.16.0)\n",
      "Requirement already satisfied: MarkupSafe>=2.0 in c:\\users\\purp\\appdata\\local\\programs\\python\\python310\\lib\\site-packages (from jinja2->torch>=1.8.0->ultralytics) (2.1.3)\n",
      "Requirement already satisfied: mpmath>=0.19 in c:\\users\\purp\\appdata\\local\\programs\\python\\python310\\lib\\site-packages (from sympy->torch>=1.8.0->ultralytics) (1.3.0)\n"
     ]
    },
    {
     "name": "stderr",
     "output_type": "stream",
     "text": [
      "WARNING: Error parsing requirements for pip: [Errno 2] No such file or directory: 'c:\\\\users\\\\purp\\\\appdata\\\\local\\\\programs\\\\python\\\\python310\\\\lib\\\\site-packages\\\\pip-21.2.3.dist-info\\\\METADATA'\n",
      "DEPRECATION: omegaconf 2.0.6 has a non-standard dependency specifier PyYAML>=5.1.*. pip 24.1 will enforce this behaviour change. A possible replacement is to upgrade to a newer version of omegaconf or contact the author to suggest that they release a version with a conforming dependency specifiers. Discussion can be found at https://github.com/pypa/pip/issues/12063\n",
      "\n",
      "[notice] A new release of pip is available: 21.2.3 -> 24.3.1\n",
      "[notice] To update, run: python.exe -m pip install --upgrade pip\n"
     ]
    },
    {
     "name": "stdout",
     "output_type": "stream",
     "text": [
      "Note: you may need to restart the kernel to use updated packages.Requirement already satisfied: numpy in c:\\users\\purp\\appdata\\local\\programs\\python\\python310\\lib\\site-packages (1.25.2)\n",
      "\n"
     ]
    },
    {
     "name": "stderr",
     "output_type": "stream",
     "text": [
      "WARNING: Error parsing requirements for pip: [Errno 2] No such file or directory: 'c:\\\\users\\\\purp\\\\appdata\\\\local\\\\programs\\\\python\\\\python310\\\\lib\\\\site-packages\\\\pip-21.2.3.dist-info\\\\METADATA'\n",
      "DEPRECATION: omegaconf 2.0.6 has a non-standard dependency specifier PyYAML>=5.1.*. pip 24.1 will enforce this behaviour change. A possible replacement is to upgrade to a newer version of omegaconf or contact the author to suggest that they release a version with a conforming dependency specifiers. Discussion can be found at https://github.com/pypa/pip/issues/12063\n",
      "\n",
      "[notice] A new release of pip is available: 21.2.3 -> 24.3.1\n",
      "[notice] To update, run: python.exe -m pip install --upgrade pip\n"
     ]
    },
    {
     "name": "stdout",
     "output_type": "stream",
     "text": [
      "Requirement already satisfied: opencv-python in c:\\users\\purp\\appdata\\local\\programs\\python\\python310\\lib\\site-packages (4.7.0.72)\n",
      "Requirement already satisfied: numpy>=1.21.2 in c:\\users\\purp\\appdata\\local\\programs\\python\\python310\\lib\\site-packages (from opencv-python) (1.25.2)\n",
      "Note: you may need to restart the kernel to use updated packages.\n"
     ]
    },
    {
     "name": "stderr",
     "output_type": "stream",
     "text": [
      "WARNING: Error parsing requirements for pip: [Errno 2] No such file or directory: 'c:\\\\users\\\\purp\\\\appdata\\\\local\\\\programs\\\\python\\\\python310\\\\lib\\\\site-packages\\\\pip-21.2.3.dist-info\\\\METADATA'\n",
      "DEPRECATION: omegaconf 2.0.6 has a non-standard dependency specifier PyYAML>=5.1.*. pip 24.1 will enforce this behaviour change. A possible replacement is to upgrade to a newer version of omegaconf or contact the author to suggest that they release a version with a conforming dependency specifiers. Discussion can be found at https://github.com/pypa/pip/issues/12063\n",
      "\n",
      "[notice] A new release of pip is available: 21.2.3 -> 24.3.1\n",
      "[notice] To update, run: python.exe -m pip install --upgrade pip\n"
     ]
    },
    {
     "name": "stdout",
     "output_type": "stream",
     "text": [
      "Requirement already satisfied: easyocr in c:\\users\\purp\\appdata\\local\\programs\\python\\python310\\lib\\site-packages (1.7.1)\n",
      "Requirement already satisfied: torch in c:\\users\\purp\\appdata\\local\\programs\\python\\python310\\lib\\site-packages (from easyocr) (2.0.1+cu118)\n",
      "Requirement already satisfied: torchvision>=0.5 in c:\\users\\purp\\appdata\\local\\programs\\python\\python310\\lib\\site-packages (from easyocr) (0.15.2+cu118)\n",
      "Requirement already satisfied: opencv-python-headless in c:\\users\\purp\\appdata\\local\\programs\\python\\python310\\lib\\site-packages (from easyocr) (4.8.0.74)\n",
      "Requirement already satisfied: scipy in c:\\users\\purp\\appdata\\local\\programs\\python\\python310\\lib\\site-packages (from easyocr) (1.9.3)\n",
      "Requirement already satisfied: numpy in c:\\users\\purp\\appdata\\local\\programs\\python\\python310\\lib\\site-packages (from easyocr) (1.25.2)\n",
      "Requirement already satisfied: Pillow in c:\\users\\purp\\appdata\\local\\programs\\python\\python310\\lib\\site-packages (from easyocr) (9.5.0)\n",
      "Requirement already satisfied: scikit-image in c:\\users\\purp\\appdata\\local\\programs\\python\\python310\\lib\\site-packages (from easyocr) (0.21.0)\n",
      "Requirement already satisfied: python-bidi in c:\\users\\purp\\appdata\\local\\programs\\python\\python310\\lib\\site-packages (from easyocr) (0.4.2)\n",
      "Requirement already satisfied: PyYAML in c:\\users\\purp\\appdata\\local\\programs\\python\\python310\\lib\\site-packages (from easyocr) (6.0.1)\n",
      "Requirement already satisfied: Shapely in c:\\users\\purp\\appdata\\local\\programs\\python\\python310\\lib\\site-packages (from easyocr) (2.0.2)\n",
      "Requirement already satisfied: pyclipper in c:\\users\\purp\\appdata\\local\\programs\\python\\python310\\lib\\site-packages (from easyocr) (1.3.0.post5)\n",
      "Requirement already satisfied: ninja in c:\\users\\purp\\appdata\\local\\programs\\python\\python310\\lib\\site-packages (from easyocr) (1.11.1.1)\n",
      "Requirement already satisfied: requests in c:\\users\\purp\\appdata\\local\\programs\\python\\python310\\lib\\site-packages (from torchvision>=0.5->easyocr) (2.28.2)\n",
      "Requirement already satisfied: filelock in c:\\users\\purp\\appdata\\local\\programs\\python\\python310\\lib\\site-packages (from torch->easyocr) (3.13.1)\n",
      "Requirement already satisfied: typing-extensions in c:\\users\\purp\\appdata\\local\\programs\\python\\python310\\lib\\site-packages (from torch->easyocr) (4.9.0)\n",
      "Requirement already satisfied: sympy in c:\\users\\purp\\appdata\\local\\programs\\python\\python310\\lib\\site-packages (from torch->easyocr) (1.12)\n",
      "Requirement already satisfied: networkx in c:\\users\\purp\\appdata\\local\\programs\\python\\python310\\lib\\site-packages (from torch->easyocr) (3.2.1)\n",
      "Requirement already satisfied: jinja2 in c:\\users\\purp\\appdata\\local\\programs\\python\\python310\\lib\\site-packages (from torch->easyocr) (3.1.2)\n",
      "Requirement already satisfied: six in c:\\users\\purp\\appdata\\local\\programs\\python\\python310\\lib\\site-packages (from python-bidi->easyocr) (1.16.0)\n",
      "Requirement already satisfied: imageio>=2.27 in c:\\users\\purp\\appdata\\local\\programs\\python\\python310\\lib\\site-packages (from scikit-image->easyocr) (2.33.1)\n",
      "Requirement already satisfied: tifffile>=2022.8.12 in c:\\users\\purp\\appdata\\local\\programs\\python\\python310\\lib\\site-packages (from scikit-image->easyocr) (2023.12.9)\n",
      "Requirement already satisfied: PyWavelets>=1.1.1 in c:\\users\\purp\\appdata\\local\\programs\\python\\python310\\lib\\site-packages (from scikit-image->easyocr) (1.5.0)\n",
      "Requirement already satisfied: packaging>=21 in c:\\users\\purp\\appdata\\local\\programs\\python\\python310\\lib\\site-packages (from scikit-image->easyocr) (23.2)\n",
      "Requirement already satisfied: lazy_loader>=0.2 in c:\\users\\purp\\appdata\\local\\programs\\python\\python310\\lib\\site-packages (from scikit-image->easyocr) (0.3)\n",
      "Requirement already satisfied: MarkupSafe>=2.0 in c:\\users\\purp\\appdata\\local\\programs\\python\\python310\\lib\\site-packages (from jinja2->torch->easyocr) (2.1.3)\n",
      "Requirement already satisfied: charset-normalizer<4,>=2 in c:\\users\\purp\\appdata\\local\\programs\\python\\python310\\lib\\site-packages (from requests->torchvision>=0.5->easyocr) (3.3.2)\n",
      "Requirement already satisfied: idna<4,>=2.5 in c:\\users\\purp\\appdata\\local\\programs\\python\\python310\\lib\\site-packages (from requests->torchvision>=0.5->easyocr) (2.10)\n",
      "Requirement already satisfied: urllib3<1.27,>=1.21.1 in c:\\users\\purp\\appdata\\local\\programs\\python\\python310\\lib\\site-packages (from requests->torchvision>=0.5->easyocr) (1.26.18)\n",
      "Requirement already satisfied: certifi>=2017.4.17 in c:\\users\\purp\\appdata\\local\\programs\\python\\python310\\lib\\site-packages (from requests->torchvision>=0.5->easyocr) (2023.7.22)\n",
      "Requirement already satisfied: mpmath>=0.19 in c:\\users\\purp\\appdata\\local\\programs\\python\\python310\\lib\\site-packages (from sympy->torch->easyocr) (1.3.0)\n",
      "Note: you may need to restart the kernel to use updated packages.\n"
     ]
    },
    {
     "name": "stderr",
     "output_type": "stream",
     "text": [
      "WARNING: Error parsing requirements for pip: [Errno 2] No such file or directory: 'c:\\\\users\\\\purp\\\\appdata\\\\local\\\\programs\\\\python\\\\python310\\\\lib\\\\site-packages\\\\pip-21.2.3.dist-info\\\\METADATA'\n",
      "DEPRECATION: omegaconf 2.0.6 has a non-standard dependency specifier PyYAML>=5.1.*. pip 24.1 will enforce this behaviour change. A possible replacement is to upgrade to a newer version of omegaconf or contact the author to suggest that they release a version with a conforming dependency specifiers. Discussion can be found at https://github.com/pypa/pip/issues/12063\n",
      "\n",
      "[notice] A new release of pip is available: 21.2.3 -> 24.3.1\n",
      "[notice] To update, run: python.exe -m pip install --upgrade pip\n"
     ]
    },
    {
     "name": "stdout",
     "output_type": "stream",
     "text": [
      "Requirement already satisfied: rapidfuzz in c:\\users\\purp\\appdata\\local\\programs\\python\\python310\\lib\\site-packages (3.6.1)\n",
      "Note: you may need to restart the kernel to use updated packages.\n"
     ]
    },
    {
     "name": "stderr",
     "output_type": "stream",
     "text": [
      "WARNING: Error parsing requirements for pip: [Errno 2] No such file or directory: 'c:\\\\users\\\\purp\\\\appdata\\\\local\\\\programs\\\\python\\\\python310\\\\lib\\\\site-packages\\\\pip-21.2.3.dist-info\\\\METADATA'\n",
      "DEPRECATION: omegaconf 2.0.6 has a non-standard dependency specifier PyYAML>=5.1.*. pip 24.1 will enforce this behaviour change. A possible replacement is to upgrade to a newer version of omegaconf or contact the author to suggest that they release a version with a conforming dependency specifiers. Discussion can be found at https://github.com/pypa/pip/issues/12063\n",
      "\n",
      "[notice] A new release of pip is available: 21.2.3 -> 24.3.1\n",
      "[notice] To update, run: python.exe -m pip install --upgrade pip\n"
     ]
    },
    {
     "name": "stdout",
     "output_type": "stream",
     "text": [
      "Requirement already satisfied: pandas in c:\\users\\purp\\appdata\\local\\programs\\python\\python310\\lib\\site-packages (2.2.3)\n",
      "Requirement already satisfied: numpy>=1.22.4 in c:\\users\\purp\\appdata\\local\\programs\\python\\python310\\lib\\site-packages (from pandas) (1.25.2)\n",
      "Requirement already satisfied: python-dateutil>=2.8.2 in c:\\users\\purp\\appdata\\local\\programs\\python\\python310\\lib\\site-packages (from pandas) (2.9.0.post0)\n",
      "Requirement already satisfied: pytz>=2020.1 in c:\\users\\purp\\appdata\\local\\programs\\python\\python310\\lib\\site-packages (from pandas) (2024.2)\n",
      "Requirement already satisfied: tzdata>=2022.7 in c:\\users\\purp\\appdata\\local\\programs\\python\\python310\\lib\\site-packages (from pandas) (2024.2)\n",
      "Requirement already satisfied: six>=1.5 in c:\\users\\purp\\appdata\\local\\programs\\python\\python310\\lib\\site-packages (from python-dateutil>=2.8.2->pandas) (1.16.0)\n",
      "Note: you may need to restart the kernel to use updated packages.\n"
     ]
    },
    {
     "name": "stderr",
     "output_type": "stream",
     "text": [
      "WARNING: Error parsing requirements for pip: [Errno 2] No such file or directory: 'c:\\\\users\\\\purp\\\\appdata\\\\local\\\\programs\\\\python\\\\python310\\\\lib\\\\site-packages\\\\pip-21.2.3.dist-info\\\\METADATA'\n",
      "DEPRECATION: omegaconf 2.0.6 has a non-standard dependency specifier PyYAML>=5.1.*. pip 24.1 will enforce this behaviour change. A possible replacement is to upgrade to a newer version of omegaconf or contact the author to suggest that they release a version with a conforming dependency specifiers. Discussion can be found at https://github.com/pypa/pip/issues/12063\n",
      "\n",
      "[notice] A new release of pip is available: 21.2.3 -> 24.3.1\n",
      "[notice] To update, run: python.exe -m pip install --upgrade pip\n"
     ]
    }
   ],
   "source": [
    "%pip install ultralytics\n",
    "%pip install numpy\n",
    "%pip install opencv-python\n",
    "%pip install easyocr\n",
    "%pip install rapidfuzz\n",
    "%pip install pandas"
   ]
  },
  {
   "attachments": {},
   "cell_type": "markdown",
   "metadata": {},
   "source": [
    "### Импорт библиотек"
   ]
  },
  {
   "cell_type": "code",
   "execution_count": 143,
   "metadata": {},
   "outputs": [],
   "source": [
    "import cv2\n",
    "import numpy as np\n",
    "import os\n",
    "import pandas as pd\n",
    "from rapidfuzz import process\n",
    "from time import time\n",
    "import matplotlib.pyplot as plt \n",
    "import csv\n",
    "\n",
    "from ultralytics import YOLO\n",
    "YOLO_VERBOSE=False\n",
    "\n",
    "import easyocr"
   ]
  },
  {
   "attachments": {},
   "cell_type": "markdown",
   "metadata": {},
   "source": [
    "### Создание папок"
   ]
  },
  {
   "cell_type": "code",
   "execution_count": 144,
   "metadata": {},
   "outputs": [],
   "source": [
    "images_dir = 'input/imgs_test'\n",
    "csv_out_dir = \"output/submission\" \n",
    "\n",
    "directory_paths = [images_dir, csv_out_dir]\n",
    "\n",
    "for dir in directory_paths:\n",
    "    os.makedirs(dir, exist_ok=True)"
   ]
  },
  {
   "attachments": {},
   "cell_type": "markdown",
   "metadata": {},
   "source": [
    "## -=Загрузка моделей=-"
   ]
  },
  {
   "attachments": {},
   "cell_type": "markdown",
   "metadata": {},
   "source": [
    "Всего есть 3 модели:\n",
    "- Распознаватель текста   \n",
    "- Детектор артикула\n",
    "- Детектор кода"
   ]
  },
  {
   "cell_type": "code",
   "execution_count": 145,
   "metadata": {},
   "outputs": [
    {
     "name": "stderr",
     "output_type": "stream",
     "text": [
      "Using CPU. Note: This module is much faster with a GPU.\n"
     ]
    },
    {
     "name": "stdout",
     "output_type": "stream",
     "text": [
      "{'ru'}\n",
      "{'ru'}\n"
     ]
    }
   ],
   "source": [
    "reader = easyocr.Reader(lang_list=['ru'],\n",
    "                        model_storage_directory=\"models\",#'modules/models',\n",
    "                        user_network_directory=\"models\",#'modules/models',\n",
    "                        recog_network='custom_ocr',\n",
    "                        detector=False,\n",
    "                        gpu=False,\n",
    "                        )\n",
    "detector_code = YOLO(\"models/yolo11_code_small.pt\")\n",
    "detector_art = YOLO(\"models/yolo11_art_small.pt\")"
   ]
  },
  {
   "cell_type": "markdown",
   "metadata": {},
   "source": [
    "## -=Загрузка базы=-"
   ]
  },
  {
   "cell_type": "markdown",
   "metadata": {},
   "source": [
    "Выгружаем артикулы из базы, исключая дубликаты"
   ]
  },
  {
   "cell_type": "code",
   "execution_count": 146,
   "metadata": {},
   "outputs": [],
   "source": [
    "db_path = \"ДеталиПоПлануДляРазрешенныхЗаказов.xlsx\"\n",
    "df = pd.read_excel(db_path, engine='openpyxl')\n",
    "\n",
    "articules = df[\"ДетальАртикул\"].dropna().unique()"
   ]
  },
  {
   "cell_type": "markdown",
   "metadata": {},
   "source": [
    "## -=Утилитарные функции=-"
   ]
  },
  {
   "cell_type": "markdown",
   "metadata": {},
   "source": [
    "Общая функция для детекторов   \n",
    "Если объект не найден, оставляет нулевой bbox, для плавности работы"
   ]
  },
  {
   "cell_type": "code",
   "execution_count": 147,
   "metadata": {},
   "outputs": [],
   "source": [
    "def detect(type, image):\n",
    "    if type == \"code\":\n",
    "        results = detector_code(image, verbose=False)\n",
    "    elif type == \"art\":\n",
    "        results = detector_art(image, verbose=False)\n",
    "    \n",
    "    if len(results[0]) != 0:\n",
    "        prediction = {\n",
    "        'x': int(results[0].to(\"cpu\").numpy().boxes.xywh[:, 0][0]),\n",
    "        'y': int(results[0].to(\"cpu\").numpy().boxes.xywh[:, 1][0]),\n",
    "        'w': int(results[0].to(\"cpu\").numpy().boxes.xywh[:, 2][0]),\n",
    "        'h': int(results[0].to(\"cpu\").numpy().boxes.xywh[:, 3][0]),\n",
    "        }\n",
    "        return prediction\n",
    "    else:\n",
    "        return {\n",
    "            'x': 0,\n",
    "            'y': 0,\n",
    "            'w': 0,\n",
    "            'h': 0,\n",
    "        }"
   ]
  },
  {
   "cell_type": "markdown",
   "metadata": {},
   "source": [
    "Функция для обрезки кода/артикула в целях распознавания"
   ]
  },
  {
   "cell_type": "code",
   "execution_count": 148,
   "metadata": {},
   "outputs": [],
   "source": [
    "def crop_image(image_path, bbox):\n",
    "    image = cv2.imread(image_path)\n",
    "    image_rgb = cv2.cvtColor(image, cv2.COLOR_BGR2RGB)\n",
    "    x, y, w, h = bbox\n",
    "    cropped_part = image_rgb[y-h//2:y+h//2, x-w//2:x+w//2]\n",
    "    return cropped_part"
   ]
  },
  {
   "cell_type": "markdown",
   "metadata": {},
   "source": [
    "Функция для отрисовки bbox'ов в демонстративных целях"
   ]
  },
  {
   "cell_type": "code",
   "execution_count": 149,
   "metadata": {},
   "outputs": [],
   "source": [
    "def draw_bbox_on_image(image, bbox):\n",
    "    image_rgb = cv2.cvtColor(image, cv2.COLOR_BGR2RGB)\n",
    "    x, y, w, h = bbox\n",
    "    cv2.rectangle(image_rgb, (x-w//2, y-h//2), (x+w//2, y+h//2), (255, 0, 0), 4)\n",
    "    return image_rgb"
   ]
  },
  {
   "cell_type": "markdown",
   "metadata": {},
   "source": [
    "Функция для распознавания символов на вырезанной части по bbox'у"
   ]
  },
  {
   "cell_type": "code",
   "execution_count": 150,
   "metadata": {},
   "outputs": [],
   "source": [
    "def recognize_digits_ocr(image):\n",
    "    ocr_result = reader.recognize(image)\n",
    "    digits = list(str(ocr_result[0][-2]))\n",
    "\n",
    "    return digits"
   ]
  },
  {
   "cell_type": "markdown",
   "metadata": {},
   "source": [
    "Функция для вычисления среднего затраченного времени на операцию"
   ]
  },
  {
   "cell_type": "code",
   "execution_count": 151,
   "metadata": {},
   "outputs": [],
   "source": [
    "def get_mean_time(start_time, end_time, num_iterations):\n",
    "    total_time = end_time - start_time\n",
    "    mean_time = total_time / num_iterations\n",
    "    seconds = round(mean_time, 3)\n",
    "    milliseconds = int((mean_time) * 1000)\n",
    "    print(f\"Среднее время обработки данного этапа {seconds} секунды или {milliseconds} миллисекунд\")\n",
    "    return mean_time"
   ]
  },
  {
   "cell_type": "markdown",
   "metadata": {},
   "source": [
    "Функция для нормализации координат разметки bbox'ов YOLO, это необходимо, так как YOLO11 вовзращает не нормализованные координаты, а пиксельные"
   ]
  },
  {
   "cell_type": "code",
   "execution_count": 152,
   "metadata": {},
   "outputs": [],
   "source": [
    "def convert_to_yolo(xmin, ymin, width, height, img_path):\n",
    "    img = cv2.imread(img_path)\n",
    "    img_height, img_width, _ = img.shape  # Height, Width, Channels\n",
    "\n",
    "    center_x = (xmin + width / 2) / img_width\n",
    "    center_y = (ymin + height / 2) / img_height\n",
    "\n",
    "    norm_width = width / img_width\n",
    "    norm_height = height / img_height\n",
    "\n",
    "    return round(center_x, 6), round(center_y, 6), round(norm_width, 6), round(norm_height, 6)\n"
   ]
  },
  {
   "cell_type": "markdown",
   "metadata": {},
   "source": [
    "## -=Загрузка путей к изображениям=-"
   ]
  },
  {
   "cell_type": "markdown",
   "metadata": {},
   "source": [
    "Сохранение путей ко всем изображениям, для дальнейшего использования в детекторе и прочих модулях"
   ]
  },
  {
   "cell_type": "code",
   "execution_count": 153,
   "metadata": {},
   "outputs": [],
   "source": [
    "files = os.listdir(images_dir)\n",
    "image_files = [f for f in files if f.endswith(('.jpg', '.jpeg', '.png', '.JPG'))]\n",
    "image_paths = [os.path.join(images_dir, f) for f in image_files]"
   ]
  },
  {
   "attachments": {},
   "cell_type": "markdown",
   "metadata": {},
   "source": [
    "## -=Поиск артикула и кода=-"
   ]
  },
  {
   "cell_type": "markdown",
   "metadata": {},
   "source": [
    "Модуль, отвчающий за детекцию артикула и кода.   \n",
    "1. Сначала изображение помещается в детектор артикула\n",
    "2. Затем изображение помещается в детектор кода\n",
    "3. После этого их данные собираются в список(и некоторая дополнительная информация впридачу) и отправляются дальше   \n",
    "3.1. Если артикул или код не находится, то в далее вместо них отправляется пустая переменная и нулевой bbox."
   ]
  },
  {
   "cell_type": "code",
   "execution_count": 154,
   "metadata": {},
   "outputs": [
    {
     "name": "stdout",
     "output_type": "stream",
     "text": [
      "Среднее время обработки данного этапа 0.138 секунды или 137 миллисекунд\n"
     ]
    }
   ],
   "source": [
    "cropped_data = []\n",
    "start_time = time()\n",
    "iterations = 0\n",
    "for path in image_paths:\n",
    "    iterations += 1\n",
    "    art_detection_res = detect(\"art\", path)\n",
    "    if art_detection_res[\"x\"] != 0 and art_detection_res[\"y\"] != 0 and art_detection_res[\"w\"] != 0 and art_detection_res[\"h\"] != 0:\n",
    "        image_art = crop_image(path, [art_detection_res[\"x\"], art_detection_res[\"y\"], art_detection_res[\"w\"], art_detection_res[\"h\"]])\n",
    "        bbox_art = [art_detection_res[\"x\"], art_detection_res[\"y\"], art_detection_res[\"w\"], art_detection_res[\"h\"]]\n",
    "    else:\n",
    "        image_art = None\n",
    "        bbox_art = [0,0,0,0]\n",
    "\n",
    "    code_detection_res = detect(\"code\", path)\n",
    "    if code_detection_res[\"x\"] != 0 and code_detection_res[\"y\"] != 0 and code_detection_res[\"w\"] != 0 and code_detection_res[\"h\"] != 0:\n",
    "        image_code = crop_image(path, [code_detection_res[\"x\"], code_detection_res[\"y\"], code_detection_res[\"w\"], code_detection_res[\"h\"]])\n",
    "        bbox_code = [code_detection_res[\"x\"], code_detection_res[\"y\"], code_detection_res[\"w\"], code_detection_res[\"h\"]]\n",
    "    else:\n",
    "        image_code = None\n",
    "        bbox_code = [0,0,0,0]\n",
    "\n",
    "    cropped_data.append([image_art, image_code, path, bbox_art, bbox_code])\n",
    "mean_time_detect = get_mean_time(start_time, time(),iterations)"
   ]
  },
  {
   "attachments": {},
   "cell_type": "markdown",
   "metadata": {},
   "source": [
    "## -=Распознавание артикула и кода=-"
   ]
  },
  {
   "cell_type": "markdown",
   "metadata": {},
   "source": [
    "Модуль, отвчающий за распознавание артикула и кода.   \n",
    "1. Данные последовательно помещаются в распознаватель\n",
    "2. После этого результаты распознавания собираются в список(и старая дополнительная информация, которая пригодится позднее) и отправляются дальше   \n",
    "2.1. Если артикул или код не распознаётся, то в далее вместо них отправляется пустая строка."
   ]
  },
  {
   "cell_type": "code",
   "execution_count": 155,
   "metadata": {},
   "outputs": [
    {
     "name": "stdout",
     "output_type": "stream",
     "text": [
      "Среднее время обработки данного этапа 0.068 секунды или 68 миллисекунд\n"
     ]
    }
   ],
   "source": [
    "recog_results = []\n",
    "start_time = time()\n",
    "iterations = 1\n",
    "for data in cropped_data:\n",
    "    iterations += 1\n",
    "    if data[0] is not None:\n",
    "        art_recognition_res = recognize_digits_ocr(data[0])\n",
    "    else:\n",
    "        art_recognition_res = \"\"\n",
    "    if data[1] is not None:\n",
    "        code_recognition_res = recognize_digits_ocr(data[1])\n",
    "    else:\n",
    "        code_recognition_res = \"\"\n",
    "\n",
    "    recog_results.append([art_recognition_res, code_recognition_res, data[2], data[3], data[4]])\n",
    "mean_time_recog = get_mean_time(start_time, time(),iterations)"
   ]
  },
  {
   "cell_type": "markdown",
   "metadata": {},
   "source": [
    "## -=Поиск по базе=-"
   ]
  },
  {
   "cell_type": "markdown",
   "metadata": {},
   "source": [
    "Достаточно быстрый поиск построенный на использование высокоэффективной библиотеки RapidFuzz. Данная библиотека ищет схожие строки на ту, которая подаётся в запрос при помощи математической техники \"Расстояния Левенштейна\".   \n",
    "В результате работы артикул либо исправляется на наиболее похожий, либо остаётся прежним, если он существует в базе \"как есть\".   \n",
    "Код таким образом не ищется, так как некоторых кодов в базе нет и это испортит метрику, так как это может заменить валидные коды."
   ]
  },
  {
   "cell_type": "code",
   "execution_count": 156,
   "metadata": {},
   "outputs": [
    {
     "name": "stdout",
     "output_type": "stream",
     "text": [
      "Среднее время обработки данного этапа 0.002 секунды или 2 миллисекунд\n"
     ]
    }
   ],
   "source": [
    "search_results = []\n",
    "start_time = time()\n",
    "iterations = 0\n",
    "for recog_result in recog_results:\n",
    "    iterations += 1\n",
    "    if recog_result[0] != \"\":\n",
    "        \n",
    "        search_results_art = process.extractOne(\"\".join(recog_result[0]), articules, score_cutoff=10)\n",
    "    else:\n",
    "        search_results_art = \"\"\n",
    "\n",
    "    if search_results_art != \"\":\n",
    "        search_results.append([search_results_art[0], recog_result[1], recog_result[2], recog_result[3], recog_result[4]])\n",
    "    else:\n",
    "        search_results.append([search_results_art, recog_result[1], recog_result[2], recog_result[3], recog_result[4]])\n",
    "\n",
    "mean_time_base_search = get_mean_time(start_time, time(),iterations)"
   ]
  },
  {
   "attachments": {},
   "cell_type": "markdown",
   "metadata": {},
   "source": [
    "## -=Подсчет среднего времени=-"
   ]
  },
  {
   "cell_type": "markdown",
   "metadata": {},
   "source": [
    "Модуль подсчета среднего времени обработки одного изображения.   \n",
    "Собирается время со всех модулей, напрямую связанных с обработкой изображений, не считая загрузки данных и моделей, так как это происходит всего один раз за цикл работы приложения, когда запускается сервер."
   ]
  },
  {
   "cell_type": "code",
   "execution_count": 157,
   "metadata": {},
   "outputs": [
    {
     "name": "stdout",
     "output_type": "stream",
     "text": [
      "Среднее время обработки всех этапов 0.208 секунды или 207 миллисекунд\n"
     ]
    }
   ],
   "source": [
    "all_mean_time = mean_time_detect + mean_time_recog + mean_time_base_search\n",
    "seconds = round(all_mean_time, 3)\n",
    "milliseconds = int((all_mean_time) * 1000)\n",
    "print(f\"Среднее время обработки всех этапов {seconds} секунды или {milliseconds} миллисекунд\")"
   ]
  },
  {
   "cell_type": "markdown",
   "metadata": {},
   "source": [
    "## -=Визуализация результатов=-   \n",
    "В связи с уточнением критерия (картинок сразу нет, потому что файл с ними не влезает)"
   ]
  },
  {
   "cell_type": "code",
   "execution_count": null,
   "metadata": {},
   "outputs": [],
   "source": [
    "for search_result in search_results:\n",
    "    img_path = search_result[2]\n",
    "    art = search_result[0].replace('\"', '')\n",
    "    code = search_result[1]\n",
    "    final_string = f'\"{art} {\"\".join(code)}\"'\n",
    "    image = cv2.cvtColor(cv2.imread(img_path), cv2.COLOR_BGR2RGB)\n",
    "    image_art = draw_bbox_on_image(image, search_result[3])\n",
    "    image_art_code = draw_bbox_on_image(image_art, search_result[4])\n",
    "    print(\"---------\")\n",
    "    print(os.path.basename(img_path))\n",
    "    plt.imshow(image_art_code)\n",
    "    plt.axis(\"off\")\n",
    "    plt.show()\n",
    "    print(final_string)"
   ]
  },
  {
   "cell_type": "markdown",
   "metadata": {},
   "source": [
    "## -=Выгрузка результатов=-"
   ]
  },
  {
   "cell_type": "markdown",
   "metadata": {},
   "source": [
    "Создание датафрейма для выгрузки"
   ]
  },
  {
   "cell_type": "code",
   "execution_count": 159,
   "metadata": {},
   "outputs": [],
   "source": [
    "# Список для хранения данных таблицы\n",
    "data = []\n",
    "\n",
    "# Обход папки с изображениями\n",
    "for search_result in search_results:\n",
    "    image_path = os.path.basename(search_result[2])\n",
    "\n",
    "    yolo_bbox1 = convert_to_yolo(search_result[3][0], search_result[3][1], search_result[3][2], search_result[3][3],search_result[2])\n",
    "    yolo_bbox2 = convert_to_yolo(search_result[4][0], search_result[4][1], search_result[4][2], search_result[4][3],search_result[2])\n",
    "\n",
    "    bbox1 = f\"0 {yolo_bbox1[0]} {yolo_bbox1[1]} {yolo_bbox1[2]} {yolo_bbox1[3]}\"\n",
    "    bbox2 = f\"0 {yolo_bbox2[0]} {yolo_bbox2[1]} {yolo_bbox2[2]} {yolo_bbox2[3]}\"\n",
    "    label = f\"{bbox1}\\n{bbox2}\"  \n",
    "\n",
    "    art = search_result[0].replace('\"', '')\n",
    "\n",
    "    label_text = f'\"{art} {\"\".join(search_result[1])}\"'\n",
    "\n",
    "    data.append([image_path, label, label_text])\n",
    "\n",
    "df = pd.DataFrame(data, columns=['image_file', 'label', 'label_text'])\n",
    "\n"
   ]
  },
  {
   "cell_type": "markdown",
   "metadata": {},
   "source": [
    "Выгрузка датафрейма в csv \"submission\""
   ]
  },
  {
   "cell_type": "code",
   "execution_count": 160,
   "metadata": {},
   "outputs": [
    {
     "data": {
      "text/html": [
       "<div>\n",
       "<style scoped>\n",
       "    .dataframe tbody tr th:only-of-type {\n",
       "        vertical-align: middle;\n",
       "    }\n",
       "\n",
       "    .dataframe tbody tr th {\n",
       "        vertical-align: top;\n",
       "    }\n",
       "\n",
       "    .dataframe thead th {\n",
       "        text-align: right;\n",
       "    }\n",
       "</style>\n",
       "<table border=\"1\" class=\"dataframe\">\n",
       "  <thead>\n",
       "    <tr style=\"text-align: right;\">\n",
       "      <th></th>\n",
       "      <th>image_file</th>\n",
       "      <th>label</th>\n",
       "      <th>label_text</th>\n",
       "    </tr>\n",
       "  </thead>\n",
       "  <tbody>\n",
       "    <tr>\n",
       "      <th>0</th>\n",
       "      <td>new100.JPG</td>\n",
       "      <td>0 0.0 0.0 0.0 0.0\\n0 0.0 0.0 0.0 0.0</td>\n",
       "      <td>\" \"</td>\n",
       "    </tr>\n",
       "    <tr>\n",
       "      <th>1</th>\n",
       "      <td>new101.JPG</td>\n",
       "      <td>0 0.678646 0.61875 0.355208 0.24375\\n0 0.0 0.0...</td>\n",
       "      <td>\"195-30-1221 ТС1.1 \"</td>\n",
       "    </tr>\n",
       "    <tr>\n",
       "      <th>2</th>\n",
       "      <td>new102.JPG</td>\n",
       "      <td>0 0.696875 0.596094 0.3625 0.30625\\n0 0.0 0.0 ...</td>\n",
       "      <td>\"AM116.04.00.260 \"</td>\n",
       "    </tr>\n",
       "    <tr>\n",
       "      <th>3</th>\n",
       "      <td>new103.JPG</td>\n",
       "      <td>0 0.585938 0.571094 0.338542 0.204687\\n0 0.303...</td>\n",
       "      <td>\"195-30-1283 ТС1.1 9260\"</td>\n",
       "    </tr>\n",
       "    <tr>\n",
       "      <th>4</th>\n",
       "      <td>new104.jpg</td>\n",
       "      <td>0 0.0 0.0 0.0 0.0\\n0 0.545693 0.629085 0.04306...</td>\n",
       "      <td>\" 30\"</td>\n",
       "    </tr>\n",
       "    <tr>\n",
       "      <th>...</th>\n",
       "      <td>...</td>\n",
       "      <td>...</td>\n",
       "      <td>...</td>\n",
       "    </tr>\n",
       "    <tr>\n",
       "      <th>108</th>\n",
       "      <td>new95.JPG</td>\n",
       "      <td>0 0.596354 0.588672 0.278125 0.202344\\n0 0.642...</td>\n",
       "      <td>\"195-30-1061 ТС1.1 31610\"</td>\n",
       "    </tr>\n",
       "    <tr>\n",
       "      <th>109</th>\n",
       "      <td>new96.JPG</td>\n",
       "      <td>0 0.877604 0.40625 0.734375 0.1\\n0 0.621354 0....</td>\n",
       "      <td>\"195-30-1285 ТС1.1 26599\"</td>\n",
       "    </tr>\n",
       "    <tr>\n",
       "      <th>110</th>\n",
       "      <td>new97.JPG</td>\n",
       "      <td>0 0.0 0.0 0.0 0.0\\n0 0.439063 0.645312 0.17604...</td>\n",
       "      <td>\" 1661\"</td>\n",
       "    </tr>\n",
       "    <tr>\n",
       "      <th>111</th>\n",
       "      <td>new98.JPG</td>\n",
       "      <td>0 0.56875 0.604688 0.320833 0.184375\\n0 0.6114...</td>\n",
       "      <td>\"АМ116.06.00.961 97\"</td>\n",
       "    </tr>\n",
       "    <tr>\n",
       "      <th>112</th>\n",
       "      <td>new99.JPG</td>\n",
       "      <td>0 0.565625 0.653516 0.322917 0.258594\\n0 0.545...</td>\n",
       "      <td>\"1391-30-0108 ТС1.1 2\"</td>\n",
       "    </tr>\n",
       "  </tbody>\n",
       "</table>\n",
       "<p>113 rows × 3 columns</p>\n",
       "</div>"
      ],
      "text/plain": [
       "     image_file                                              label  \\\n",
       "0    new100.JPG               0 0.0 0.0 0.0 0.0\\n0 0.0 0.0 0.0 0.0   \n",
       "1    new101.JPG  0 0.678646 0.61875 0.355208 0.24375\\n0 0.0 0.0...   \n",
       "2    new102.JPG  0 0.696875 0.596094 0.3625 0.30625\\n0 0.0 0.0 ...   \n",
       "3    new103.JPG  0 0.585938 0.571094 0.338542 0.204687\\n0 0.303...   \n",
       "4    new104.jpg  0 0.0 0.0 0.0 0.0\\n0 0.545693 0.629085 0.04306...   \n",
       "..          ...                                                ...   \n",
       "108   new95.JPG  0 0.596354 0.588672 0.278125 0.202344\\n0 0.642...   \n",
       "109   new96.JPG  0 0.877604 0.40625 0.734375 0.1\\n0 0.621354 0....   \n",
       "110   new97.JPG  0 0.0 0.0 0.0 0.0\\n0 0.439063 0.645312 0.17604...   \n",
       "111   new98.JPG  0 0.56875 0.604688 0.320833 0.184375\\n0 0.6114...   \n",
       "112   new99.JPG  0 0.565625 0.653516 0.322917 0.258594\\n0 0.545...   \n",
       "\n",
       "                    label_text  \n",
       "0                          \" \"  \n",
       "1         \"195-30-1221 ТС1.1 \"  \n",
       "2           \"AM116.04.00.260 \"  \n",
       "3     \"195-30-1283 ТС1.1 9260\"  \n",
       "4                        \" 30\"  \n",
       "..                         ...  \n",
       "108  \"195-30-1061 ТС1.1 31610\"  \n",
       "109  \"195-30-1285 ТС1.1 26599\"  \n",
       "110                    \" 1661\"  \n",
       "111       \"АМ116.06.00.961 97\"  \n",
       "112     \"1391-30-0108 ТС1.1 2\"  \n",
       "\n",
       "[113 rows x 3 columns]"
      ]
     },
     "execution_count": 160,
     "metadata": {},
     "output_type": "execute_result"
    }
   ],
   "source": [
    "df"
   ]
  },
  {
   "cell_type": "code",
   "execution_count": 161,
   "metadata": {},
   "outputs": [],
   "source": [
    "df.to_csv(csv_out_dir+'/submission.csv', index=False)"
   ]
  }
 ],
 "metadata": {
  "kernelspec": {
   "display_name": "Python 3",
   "language": "python",
   "name": "python3"
  },
  "language_info": {
   "codemirror_mode": {
    "name": "ipython",
    "version": 3
   },
   "file_extension": ".py",
   "mimetype": "text/x-python",
   "name": "python",
   "nbconvert_exporter": "python",
   "pygments_lexer": "ipython3",
   "version": "3.10.0"
  },
  "orig_nbformat": 4
 },
 "nbformat": 4,
 "nbformat_minor": 2
}
